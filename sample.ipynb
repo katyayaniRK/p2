x=int(input("enter value"))
y=int(input("enter value"))
b=x+y
print(b)
